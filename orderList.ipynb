{
 "cells": [
  {
   "cell_type": "code",
   "execution_count": 1,
   "metadata": {},
   "outputs": [
    {
     "name": "stdout",
     "output_type": "stream",
     "text": [
      "0\n"
     ]
    }
   ],
   "source": [
    "import pandas as pd\n",
    "from FoodItemClass import FoodItem\n",
    "from orderClass import Order\n",
    "\n",
    "# Read in the file, order number can be added after being sorted\n",
    "# if reading in \n",
    "def getFoodAndOrderIndexes(combined_df):\n",
    "    indexes = []\n",
    "    indexes.append(0)\n",
    "    firstRow = True\n",
    "    listIndexes = []\n",
    "    orderList = []\n",
    "    for index, row in combined_df.iterrows():\n",
    "        if (firstRow):\n",
    "            prev = row[\"Order #\"]\n",
    "            date = row[\"Sent Date\"]\n",
    "            listIndexes += [index]\n",
    "            a = Order(date)\n",
    "            orderList += [a]\n",
    "            firstRow = False\n",
    "        else:\n",
    "            current = row[\"Order #\"]\n",
    "            if (prev != current):\n",
    "                prev = current\n",
    "                date = row[\"Sent Date\"]\n",
    "                listIndexes += [index]\n",
    "                a = Order(date)\n",
    "                orderList += [a]\n",
    "        # case for mac and cheese\n",
    "        # if either the next row has noodles or isn't mac and cheese append that index\n",
    "        if (index == (len(combined_df) - 2) ):\n",
    "            break\n",
    "        if row[\"Parent Menu Selection\"] == \"Mac and Cheese\":\n",
    "            if (row[\"Parent Menu Selection\"] != combined_df.iloc[index + 1][\"Parent Menu Selection\"]) or (combined_df.iloc[index+1][\"Option Group Name\"] == \"Noods\"):\n",
    "                indexes.append(index + 1)\n",
    "        if row[\"Parent Menu Selection\"] == \"Grilled Cheese Sandwich\":\n",
    "            if (row[\"Parent Menu Selection\"] != combined_df.iloc[index+1][\"Parent Menu Selection\"]) or (combined_df.iloc[index+1][\"Option Group Name\"] == \"Choose Your Meats\"):\n",
    "                indexes.append(index + 1)\n",
    "        if row[\"Parent Menu Selection\"] == \"Sides/Desserts\":\n",
    "            indexes.append(index + 1)\n",
    "        if row[\"Parent Menu Selection\"] == \"Drinks\":\n",
    "            indexes.append(index+1)\n",
    "        if row[\"Parent Menu Selection\"] == \"Mac and Cheese Party Tray (Plus FREE Garlic Bread)\":\n",
    "            indexes.append(index+1)\n",
    "    indexes += [len(combined_df) - 1]\n",
    "    return indexes, orderList, listIndexes\n",
    "\n",
    "# Various statistical tests\n",
    "combined_df = pd.read_csv(\"combined_sheets_with_june.csv\")\n",
    "# orderslist = []\n",
    "# for index, row in combined_df.iterrows():\n",
    "#     ordernumber = row[0]\n",
    "#     currentOrder_df = combined_df.iloc(index)\n",
    "    \n",
    "#     addOrder(orderslist, currentOrder_df)\n",
    "foodsIndex, orderList, listIndexes = getFoodAndOrderIndexes(combined_df)\n",
    "foods = []\n",
    "firstRow = True\n",
    "a = FoodItem(\"\")\n",
    "counter1 = 1 ; counter2 = 0\n",
    "n = 1\n",
    "s = 0\n",
    "l = 1\n",
    "for index, row in combined_df.iterrows():\n",
    "    # Need to iterate through rows for order 0 until row index reaches listIndexes[1]\n",
    "    # when it reaches listIndexes[1] increment to listIndexes[2] and start orderList[1]\n",
    "    # need to iterate for individual food items until index = foodsIndex[1] then increment to foodsIndex[2]\n",
    "    # only create a new food item when index == foodsIndex[n]\n",
    "    \n",
    "    if ((index == 0 or index == foodsIndex[n]) and n != len(foodsIndex) - 1):\n",
    "        if (index != 0):\n",
    "            orderList[s].addFoodItems(a)\n",
    "            a = FoodItem(row[\"Parent Menu Selection\"])\n",
    "        if (index == 0):\n",
    "            a = FoodItem(row[\"Parent Menu Selection\"])\n",
    "        if (index == foodsIndex[n]):\n",
    "            n += 1\n",
    "    a.addModifierGroup(row[\"Option Group Name\"])\n",
    "    a.addModifiers(row[\"Modifier\"])\n",
    "    if (index == listIndexes[l] and l != len(listIndexes)-1):            \n",
    "        l += 1\n",
    "        s +=1\n"
   ]
  },
  {
   "cell_type": "code",
   "execution_count": null,
   "metadata": {},
   "outputs": [
    {
     "name": "stdout",
     "output_type": "stream",
     "text": [
      "Mac and Cheese\n",
      "{'Regular': 1, 'Cheddar': 1, 'Pulled Pork': 1, 'Broccoli': 1, 'Tomatoes': 1, 'Breadcrumbs': 1, 'BBQ': 1, 'No Side': 1, 'Water': 1}\n",
      "{'Noods': 1, 'Choose Your Cheese': 1, 'Choose Your Meats': 1, 'Choose Your Toppings': 3, 'Choose Your Drizzles': 1, 'Choose Your Side': 1, 'Choose Your Drink': 1}\n",
      "None\n"
     ]
    }
   ],
   "source": [
    "print (orderList[0].foodItems[0].output())\n"
   ]
  }
 ],
 "metadata": {
  "kernelspec": {
   "display_name": "Python 3",
   "language": "python",
   "name": "python3"
  },
  "language_info": {
   "codemirror_mode": {
    "name": "ipython",
    "version": 3
   },
   "file_extension": ".py",
   "mimetype": "text/x-python",
   "name": "python",
   "nbconvert_exporter": "python",
   "pygments_lexer": "ipython3",
   "version": "3.11.9"
  }
 },
 "nbformat": 4,
 "nbformat_minor": 2
}
