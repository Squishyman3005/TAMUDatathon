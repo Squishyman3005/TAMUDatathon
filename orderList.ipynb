{
 "cells": [
  {
   "cell_type": "code",
   "execution_count": 1,
   "metadata": {},
   "outputs": [
    {
     "name": "stdout",
     "output_type": "stream",
     "text": [
      "0\n"
     ]
    }
   ],
   "source": [
    "import pandas as pd\n",
    "from FoodItemClass import FoodItem\n",
    "from orderClass import Order\n",
    "from itertools import combinations\n",
    "import numpy as np"
   ]
  },
  {
   "cell_type": "code",
   "execution_count": 2,
   "metadata": {},
   "outputs": [],
   "source": [
    "import pandas as pd\n",
    "from FoodItemClass import FoodItem\n",
    "from orderClass import Order\n",
    "from itertools import combinations\n",
    "# Read in the file, order number can be added after being sorted\n",
    "# if reading in \n",
    "def getFoodAndOrderIndexes(combined_df):\n",
    "    indexes = []\n",
    "    indexes.append(0)\n",
    "    firstRow = True\n",
    "    listIndexes = []\n",
    "    orderList = []\n",
    "    for index, row in combined_df.iterrows():\n",
    "        if (firstRow):\n",
    "            prev = row[\"Order #\"]\n",
    "            date = row[\"Sent Date\"]\n",
    "            listIndexes += [index]\n",
    "            a = Order(date)\n",
    "            orderList += [a]\n",
    "            firstRow = False\n",
    "        else:\n",
    "            current = row[\"Order #\"]\n",
    "            if (prev != current):\n",
    "                prev = current\n",
    "                date = row[\"Sent Date\"]\n",
    "                listIndexes += [index]\n",
    "                a = Order(date)\n",
    "                orderList += [a]\n",
    "        # case for mac and cheese\n",
    "        # if either the next row has noodles or isn't mac and cheese append that index\n",
    "        if (index == (len(combined_df) - 2) ):\n",
    "            break\n",
    "        if row[\"Parent Menu Selection\"] == \"Mac and Cheese\":\n",
    "            if (row[\"Parent Menu Selection\"] != combined_df.iloc[index + 1][\"Parent Menu Selection\"]) or (combined_df.iloc[index+1][\"Option Group Name\"] == \"Noods\"):\n",
    "                indexes.append(index + 1)\n",
    "        if row[\"Parent Menu Selection\"] == \"Grilled Cheese Sandwich\":\n",
    "            if (row[\"Parent Menu Selection\"] != combined_df.iloc[index+1][\"Parent Menu Selection\"]) or (combined_df.iloc[index+1][\"Option Group Name\"] == \"Choose Your Meats\"):\n",
    "                indexes.append(index + 1)\n",
    "        if row[\"Parent Menu Selection\"] == \"Sides/Desserts\":\n",
    "            indexes.append(index + 1)\n",
    "        if row[\"Parent Menu Selection\"] == \"Drinks\":\n",
    "            indexes.append(index+1)\n",
    "        if row[\"Parent Menu Selection\"] == \"Mac and Cheese Party Tray (Plus FREE Garlic Bread)\":\n",
    "            indexes.append(index+1)\n",
    "    indexes += [len(combined_df) - 1]\n",
    "    return indexes, orderList, listIndexes\n",
    "\n",
    "# Various statistical tests\n",
    "combined_df = pd.read_csv(\"combined_sheets_with_june.csv\")\n",
    "# orderslist = []\n",
    "# for index, row in combined_df.iterrows():\n",
    "#     ordernumber = row[0]\n",
    "#     currentOrder_df = combined_df.iloc(index)\n",
    "    \n",
    "#     addOrder(orderslist, currentOrder_df)\n",
    "foodsIndex, orderList, listIndexes = getFoodAndOrderIndexes(combined_df)\n",
    "foods = []\n",
    "firstRow = True\n",
    "a = FoodItem(\"\")\n",
    "counter1 = 1 ; counter2 = 0\n",
    "n = 1\n",
    "s = 0\n",
    "l = 1\n",
    "for index, row in combined_df.iterrows():\n",
    "    # Need to iterate through rows for order 0 until row index reaches listIndexes[1]\n",
    "    # when it reaches listIndexes[1] increment to listIndexes[2] and start orderList[1]\n",
    "    # need to iterate for individual food items until index = foodsIndex[1] then increment to foodsIndex[2]\n",
    "    # only create a new food item when index == foodsIndex[n]\n",
    "    \n",
    "    if ((index == 0 or index == foodsIndex[n]) and n != len(foodsIndex) - 1):\n",
    "        if (index != 0):\n",
    "            orderList[s].addFoodItems(a)\n",
    "            a = FoodItem(row[\"Parent Menu Selection\"])\n",
    "        if (index == 0):\n",
    "            a = FoodItem(row[\"Parent Menu Selection\"])\n",
    "        if (index == foodsIndex[n]):\n",
    "            n += 1\n",
    "    a.addModifierGroup(row[\"Option Group Name\"])\n",
    "    a.addModifiers(row[\"Modifier\"])\n",
    "    if (index == listIndexes[l] and l != len(listIndexes)-1):            \n",
    "        l += 1\n",
    "        s +=1\n"
   ]
  },
  {
   "cell_type": "code",
   "execution_count": 31,
   "metadata": {},
   "outputs": [],
   "source": [
    "pop_items = ['Parmesan','Breadcrumbs', 'Brisket', 'Grilled Chicken', 'Onions', 'Bacon', 'Brocoli','Corn','Mushrooms','Jalapenos','Bell Peppers','Tomatoes', 'Pulled Pork','Pineapple','Ham']\n",
    "pair_count_1 = []\n",
    "for combo in combinations(pop_items,1):\n",
    "    count = 0\n",
    "    for order in orderList:\n",
    "        count+=order.findCombination(list(combo))\n",
    "    pair_count_1.append((list(combo),count))"
   ]
  },
  {
   "cell_type": "code",
   "execution_count": 32,
   "metadata": {},
   "outputs": [
    {
     "name": "stdout",
     "output_type": "stream",
     "text": [
      "(['Parmesan'], 16344)\n",
      "(['Breadcrumbs'], 15125)\n",
      "(['Brisket'], 9396)\n",
      "(['Grilled Chicken'], 8525)\n",
      "(['Onions'], 8077)\n",
      "(['Bacon'], 6359)\n",
      "(['Corn'], 6164)\n",
      "(['Mushrooms'], 5908)\n",
      "(['Jalapenos'], 5630)\n",
      "(['Bell Peppers'], 5264)\n"
     ]
    }
   ],
   "source": [
    "sorted_data = sorted(pair_count_1, key=lambda x: x[1], reverse=True)\n",
    "for i in range(10):\n",
    "    print(sorted_data[i])"
   ]
  },
  {
   "cell_type": "code",
   "execution_count": 28,
   "metadata": {},
   "outputs": [],
   "source": [
    "pop_items = ['Parmesan','Breadcrumbs', 'Brisket', 'Grilled Chicken', 'Onions', 'Bacon', 'Brocoli','Corn','Mushrooms','Jalapenos','Bell Peppers','Tomatoes', 'Pulled Pork','Pineapple','Ham']\n",
    "pair_count_2 = []\n",
    "for combo in combinations(pop_items,2):\n",
    "    count = 0\n",
    "    for order in orderList:\n",
    "        count+=order.findCombination(list(combo))\n",
    "    pair_count_2.append((list(combo),count))"
   ]
  },
  {
   "cell_type": "code",
   "execution_count": 29,
   "metadata": {},
   "outputs": [
    {
     "name": "stdout",
     "output_type": "stream",
     "text": [
      "(['Parmesan', 'Breadcrumbs'], 10848)\n",
      "(['Parmesan', 'Brisket'], 5160)\n",
      "(['Parmesan', 'Grilled Chicken'], 5120)\n",
      "(['Breadcrumbs', 'Brisket'], 5058)\n",
      "(['Parmesan', 'Onions'], 4882)\n",
      "(['Breadcrumbs', 'Onions'], 4638)\n",
      "(['Breadcrumbs', 'Grilled Chicken'], 4415)\n",
      "(['Parmesan', 'Bacon'], 3811)\n",
      "(['Parmesan', 'Corn'], 3782)\n",
      "(['Parmesan', 'Mushrooms'], 3750)\n"
     ]
    }
   ],
   "source": [
    "sorted_data = sorted(pair_count_2, key=lambda x: x[1], reverse=True)\n",
    "for i in range(10):\n",
    "    print(sorted_data[i])"
   ]
  },
  {
   "cell_type": "code",
   "execution_count": null,
   "metadata": {},
   "outputs": [],
   "source": [
    "pop_items = ['Parmesan','Breadcrumbs', 'Brisket', 'Grilled Chicken', 'Onions', 'Bacon', 'Brocoli','Corn','Mushrooms','Jalapenos','Bell Peppers','Tomatoes', 'Pulled Pork','Pineapple','Ham']\n",
    "pair_count_3 = []\n",
    "for combo in combinations(pop_items,3):\n",
    "    count = 0\n",
    "    for order in orderList:\n",
    "        count+=order.findCombination(list(combo))\n",
    "    pair_count_3.append((list(combo),count))"
   ]
  },
  {
   "cell_type": "code",
   "execution_count": null,
   "metadata": {},
   "outputs": [],
   "source": [
    "sorted_data = sorted(pair_count_3, key=lambda x: x[1], reverse=True)\n",
    "for i in range(10):\n",
    "    print(sorted_data[i])"
   ]
  },
  {
   "cell_type": "code",
   "execution_count": 15,
   "metadata": {},
   "outputs": [],
   "source": [
    "pop_items = ['Parmesan','Breadcrumbs', 'Brisket', 'Grilled Chicken', 'Onions', 'Bacon', 'Brocoli','Corn','Mushrooms','Jalapenos','Bell Peppers','Tomatoes', 'Pulled Pork','Pineapple','Ham']\n",
    "pair_count_4 = []\n",
    "for combo in combinations(pop_items,4):\n",
    "    count = 0\n",
    "    for order in orderList:\n",
    "        count+=order.findCombination(list(combo))\n",
    "    pair_count_4.append((list(combo),count))\n"
   ]
  },
  {
   "cell_type": "code",
   "execution_count": null,
   "metadata": {},
   "outputs": [],
   "source": [
    "sorted_data = sorted(pair_count_4, key=lambda x: x[1], reverse=True)\n",
    "for i in range(10):\n",
    "    print(sorted_data[i])"
   ]
  },
  {
   "cell_type": "code",
   "execution_count": null,
   "metadata": {},
   "outputs": [],
   "source": [
    "pop_items = ['Parmesan','Breadcrumbs', 'Brisket', 'Grilled Chicken', 'Onions', 'Bacon', 'Brocoli','Corn','Mushrooms','Jalapenos','Bell Peppers','Tomatoes', 'Pulled Pork','Pineapple','Ham']\n",
    "pair_count_5 = []\n",
    "for combo in combinations(pop_items,5):\n",
    "    count = 0\n",
    "    for order in orderList:\n",
    "        count+=order.findCombination(list(combo))\n",
    "    pair_count_5.append((list(combo),count))"
   ]
  },
  {
   "cell_type": "code",
   "execution_count": null,
   "metadata": {},
   "outputs": [],
   "source": [
    "sorted_data = sorted(pair_count_5, key=lambda x: x[1], reverse=True)\n",
    "for i in range(10):\n",
    "    print(sorted_data[i])"
   ]
  },
  {
   "cell_type": "code",
   "execution_count": 3,
   "metadata": {},
   "outputs": [],
   "source": [
    "df1 = pd.DataFrame(np.nan, columns=['N-Toppings','Toppings','Num Orders'], index=range(0,0))\n"
   ]
  },
  {
   "cell_type": "code",
   "execution_count": 4,
   "metadata": {},
   "outputs": [],
   "source": [
    "pop_items = ['Parmesan','Breadcrumbs', 'Brisket', 'Grilled Chicken', 'Onions', 'Bacon', 'Brocoli','Corn','Mushrooms','Jalapenos','Bell Peppers','Tomatoes', 'Pulled Pork','Pineapple','Ham']\n",
    "pair_count_1 = []\n",
    "foodItemToSearch = \"Mac and Cheese\"\n",
    "for combo in combinations(pop_items,1):\n",
    "    count = 0\n",
    "    for order in orderList:\n",
    "        count+=order.findCombinationWithFood(list(combo), foodItemToSearch)\n",
    "    pair_count_1.append((list(combo),count))"
   ]
  },
  {
   "cell_type": "code",
   "execution_count": null,
   "metadata": {},
   "outputs": [
    {
     "name": "stdout",
     "output_type": "stream",
     "text": [
      "(['Parmesan'], 13428)\n",
      "(['Breadcrumbs'], 12542)\n",
      "(['Brisket'], 7511)\n",
      "(['Grilled Chicken'], 7090)\n",
      "(['Onions'], 6383)\n"
     ]
    }
   ],
   "source": [
    "sorted_data = sorted(pair_count_1, key=lambda x: x[1], reverse=True)\n",
    "for i in range(5):\n",
    "    new_row = pd.DataFrame({'N-Toppings':[1],'Toppings':[\", \".join(sorted_data[i][0])], 'Num Orders':[sorted_data[i][1]]})\n",
    "    df1 = pd.concat([df1,new_row],ignore_index=True)\n",
    "    print(sorted_data[i])\n",
    "sum_other_1 = 0\n",
    "for i in range(5,len(pair_count_1)):\n",
    "    sum_other_1+=sorted_data[i][1]\n",
    "new_row = pd.DataFrame({'N-Toppings':[1],'Toppings':[\"Other\"], 'Num Orders':[sum_other_1]})\n",
    "df1 = pd.concat([df1,new_row],ignore_index=True)"
   ]
  },
  {
   "cell_type": "code",
   "execution_count": 6,
   "metadata": {},
   "outputs": [],
   "source": [
    "pop_items = ['Parmesan','Breadcrumbs', 'Brisket', 'Grilled Chicken', 'Onions', 'Bacon', 'Brocoli','Corn','Mushrooms','Jalapenos','Bell Peppers','Tomatoes', 'Pulled Pork','Pineapple','Ham']\n",
    "pair_count_2 = []\n",
    "foodItemToSearch = \"Mac and Cheese\"\n",
    "for combo in combinations(pop_items,2):\n",
    "    count = 0\n",
    "    for order in orderList:\n",
    "        count+=order.findCombinationWithFood(list(combo), foodItemToSearch)\n",
    "    pair_count_2.append((list(combo),count))"
   ]
  },
  {
   "cell_type": "code",
   "execution_count": null,
   "metadata": {},
   "outputs": [
    {
     "name": "stdout",
     "output_type": "stream",
     "text": [
      "(['Parmesan', 'Breadcrumbs'], 10848)\n",
      "(['Parmesan', 'Brisket'], 5160)\n",
      "(['Parmesan', 'Grilled Chicken'], 5120)\n",
      "(['Breadcrumbs', 'Brisket'], 5058)\n",
      "(['Parmesan', 'Onions'], 4882)\n",
      "4638 ['Breadcrumbs', 'Onions']\n",
      "4415 ['Breadcrumbs', 'Grilled Chicken']\n",
      "3811 ['Parmesan', 'Bacon']\n",
      "3782 ['Parmesan', 'Corn']\n",
      "3750 ['Parmesan', 'Mushrooms']\n",
      "3629 ['Breadcrumbs', 'Bacon']\n",
      "3444 ['Parmesan', 'Jalapenos']\n",
      "3413 ['Breadcrumbs', 'Corn']\n",
      "3354 ['Breadcrumbs', 'Mushrooms']\n",
      "3271 ['Breadcrumbs', 'Jalapenos']\n",
      "3212 ['Parmesan', 'Bell Peppers']\n",
      "3182 ['Onions', 'Bell Peppers']\n",
      "3058 ['Breadcrumbs', 'Bell Peppers']\n",
      "2984 ['Onions', 'Jalapenos']\n",
      "2912 ['Brisket', 'Onions']\n",
      "2904 ['Parmesan', 'Tomatoes']\n",
      "2842 ['Onions', 'Corn']\n",
      "2721 ['Onions', 'Mushrooms']\n",
      "2464 ['Breadcrumbs', 'Tomatoes']\n",
      "2443 ['Onions', 'Tomatoes']\n",
      "2371 ['Grilled Chicken', 'Onions']\n",
      "2195 ['Brisket', 'Corn']\n",
      "2106 ['Jalapenos', 'Bell Peppers']\n",
      "2082 ['Corn', 'Mushrooms']\n",
      "2057 ['Brisket', 'Jalapenos']\n",
      "2009 ['Grilled Chicken', 'Mushrooms']\n",
      "2009 ['Mushrooms', 'Bell Peppers']\n",
      "1993 ['Bell Peppers', 'Tomatoes']\n",
      "1940 ['Corn', 'Bell Peppers']\n",
      "1889 ['Brisket', 'Mushrooms']\n",
      "1858 ['Mushrooms', 'Tomatoes']\n",
      "1821 ['Grilled Chicken', 'Corn']\n",
      "1819 ['Corn', 'Tomatoes']\n",
      "1816 ['Corn', 'Jalapenos']\n",
      "1814 ['Brisket', 'Bell Peppers']\n",
      "1791 ['Mushrooms', 'Jalapenos']\n",
      "1648 ['Grilled Chicken', 'Jalapenos']\n",
      "1624 ['Grilled Chicken', 'Bell Peppers']\n",
      "1521 ['Onions', 'Bacon']\n",
      "1514 ['Jalapenos', 'Tomatoes']\n",
      "1481 ['Grilled Chicken', 'Tomatoes']\n",
      "1439 ['Parmesan', 'Pulled Pork']\n",
      "1382 ['Brisket', 'Tomatoes']\n",
      "1351 ['Breadcrumbs', 'Pulled Pork']\n",
      "1305 ['Grilled Chicken', 'Bacon']\n",
      "1228 ['Brisket', 'Bacon']\n",
      "1056 ['Bacon', 'Jalapenos']\n",
      "1013 ['Parmesan', 'Pineapple']\n",
      "953 ['Bacon', 'Mushrooms']\n",
      "920 ['Bacon', 'Corn']\n",
      "879 ['Breadcrumbs', 'Pineapple']\n",
      "873 ['Onions', 'Pulled Pork']\n",
      "855 ['Bacon', 'Bell Peppers']\n",
      "795 ['Corn', 'Pineapple']\n",
      "730 ['Onions', 'Pineapple']\n",
      "698 ['Bacon', 'Tomatoes']\n",
      "665 ['Corn', 'Pulled Pork']\n",
      "617 ['Tomatoes', 'Pineapple']\n",
      "610 ['Mushrooms', 'Pineapple']\n",
      "604 ['Parmesan', 'Ham']\n",
      "560 ['Jalapenos', 'Pulled Pork']\n",
      "555 ['Bell Peppers', 'Pineapple']\n",
      "538 ['Mushrooms', 'Pulled Pork']\n",
      "514 ['Bell Peppers', 'Pulled Pork']\n",
      "499 ['Jalapenos', 'Pineapple']\n",
      "482 ['Brisket', 'Pineapple']\n",
      "475 ['Breadcrumbs', 'Ham']\n",
      "436 ['Grilled Chicken', 'Pineapple']\n",
      "418 ['Brisket', 'Grilled Chicken']\n",
      "412 ['Tomatoes', 'Pulled Pork']\n",
      "335 ['Bacon', 'Pulled Pork']\n",
      "333 ['Brisket', 'Pulled Pork']\n",
      "262 ['Onions', 'Ham']\n",
      "252 ['Corn', 'Ham']\n",
      "241 ['Bacon', 'Pineapple']\n",
      "239 ['Bacon', 'Ham']\n",
      "224 ['Mushrooms', 'Ham']\n",
      "194 ['Pulled Pork', 'Pineapple']\n",
      "189 ['Tomatoes', 'Ham']\n",
      "170 ['Grilled Chicken', 'Ham']\n",
      "170 ['Bell Peppers', 'Ham']\n",
      "139 ['Jalapenos', 'Ham']\n",
      "116 ['Grilled Chicken', 'Pulled Pork']\n",
      "108 ['Brisket', 'Ham']\n",
      "82 ['Pineapple', 'Ham']\n",
      "34 ['Pulled Pork', 'Ham']\n",
      "0 ['Parmesan', 'Brocoli']\n",
      "0 ['Breadcrumbs', 'Brocoli']\n",
      "0 ['Brisket', 'Brocoli']\n",
      "0 ['Grilled Chicken', 'Brocoli']\n",
      "0 ['Onions', 'Brocoli']\n",
      "0 ['Bacon', 'Brocoli']\n",
      "0 ['Brocoli', 'Corn']\n",
      "0 ['Brocoli', 'Mushrooms']\n",
      "0 ['Brocoli', 'Jalapenos']\n",
      "0 ['Brocoli', 'Bell Peppers']\n",
      "0 ['Brocoli', 'Tomatoes']\n",
      "0 ['Brocoli', 'Pulled Pork']\n",
      "0 ['Brocoli', 'Pineapple']\n",
      "0 ['Brocoli', 'Ham']\n"
     ]
    }
   ],
   "source": [
    "sorted_data = sorted(pair_count_2, key=lambda x: x[1], reverse=True)\n",
    "for i in range(5):\n",
    "    new_row = pd.DataFrame({'N-Toppings':[2],'Toppings':[\", \".join(sorted_data[i][0])], 'Num Orders':[sorted_data[i][1]]})\n",
    "    df1 = pd.concat([df1,new_row],ignore_index=True)\n",
    "    print(sorted_data[i])\n",
    "sum_other_2 = 0\n",
    "for i in range(5,len(pair_count_2)):\n",
    "    sum_other_2+=sorted_data[i][1]\n",
    "new_row = pd.DataFrame({'N-Toppings':[2],'Toppings':[\"Other\"], 'Num Orders':[sum_other_2]})\n",
    "df1 = pd.concat([df1,new_row],ignore_index=True)"
   ]
  },
  {
   "cell_type": "code",
   "execution_count": 8,
   "metadata": {},
   "outputs": [],
   "source": [
    "pop_items = ['Parmesan','Breadcrumbs', 'Brisket', 'Grilled Chicken', 'Onions', 'Bacon', 'Brocoli','Corn','Mushrooms','Jalapenos','Bell Peppers','Tomatoes', 'Pulled Pork','Pineapple','Ham']\n",
    "pair_count_3 = []\n",
    "foodItemToSearch = \"Mac and Cheese\"\n",
    "for combo in combinations(pop_items,3):\n",
    "    count = 0\n",
    "    for order in orderList:\n",
    "        count+=order.findCombinationWithFood(list(combo), foodItemToSearch)\n",
    "    pair_count_3.append((list(combo),count))"
   ]
  },
  {
   "cell_type": "code",
   "execution_count": 9,
   "metadata": {},
   "outputs": [
    {
     "name": "stdout",
     "output_type": "stream",
     "text": [
      "(['Parmesan', 'Breadcrumbs', 'Brisket'], 2945)\n",
      "(['Parmesan', 'Breadcrumbs', 'Onions'], 2732)\n",
      "(['Parmesan', 'Breadcrumbs', 'Grilled Chicken'], 2717)\n",
      "(['Parmesan', 'Breadcrumbs', 'Bacon'], 2213)\n",
      "(['Parmesan', 'Breadcrumbs', 'Corn'], 2099)\n"
     ]
    }
   ],
   "source": [
    "sorted_data = sorted(pair_count_3, key=lambda x: x[1], reverse=True)\n",
    "for i in range(5):\n",
    "    new_row = pd.DataFrame({'N-Toppings':[3],'Toppings':[\", \".join(sorted_data[i][0])], 'Num Orders':[sorted_data[i][1]]})\n",
    "    df1 = pd.concat([df1,new_row],ignore_index=True)\n",
    "    print(sorted_data[i])\n",
    "sum_other_3 = 0\n",
    "for i in range(5,len(pair_count_3)):\n",
    "    sum_other_3+=sorted_data[i][1]\n",
    "new_row = pd.DataFrame({'N-Toppings':[3],'Toppings':[\"Other\"], 'Num Orders':[sum_other_3]})\n",
    "df1 = pd.concat([df1,new_row],ignore_index=True)"
   ]
  },
  {
   "cell_type": "code",
   "execution_count": 10,
   "metadata": {},
   "outputs": [],
   "source": [
    "pop_items = ['Parmesan','Breadcrumbs', 'Brisket', 'Grilled Chicken', 'Onions', 'Bacon', 'Brocoli','Corn','Mushrooms','Jalapenos','Bell Peppers','Tomatoes', 'Pulled Pork','Pineapple','Ham']\n",
    "pair_count_4 = []\n",
    "foodItemToSearch = \"Mac and Cheese\"\n",
    "for combo in combinations(pop_items,4):\n",
    "    count = 0\n",
    "    for order in orderList:\n",
    "        count+=order.findCombinationWithFood(list(combo), foodItemToSearch)\n",
    "    pair_count_4.append((list(combo),count))"
   ]
  },
  {
   "cell_type": "code",
   "execution_count": 11,
   "metadata": {},
   "outputs": [
    {
     "name": "stdout",
     "output_type": "stream",
     "text": [
      "(['Parmesan', 'Breadcrumbs', 'Onions', 'Bell Peppers'], 1120)\n",
      "(['Parmesan', 'Breadcrumbs', 'Onions', 'Jalapenos'], 1078)\n",
      "(['Parmesan', 'Breadcrumbs', 'Onions', 'Corn'], 1050)\n",
      "(['Parmesan', 'Breadcrumbs', 'Onions', 'Mushrooms'], 1029)\n",
      "(['Parmesan', 'Breadcrumbs', 'Brisket', 'Onions'], 940)\n"
     ]
    }
   ],
   "source": [
    "sorted_data = sorted(pair_count_4, key=lambda x: x[1], reverse=True)\n",
    "for i in range(5):\n",
    "    new_row = pd.DataFrame({'N-Toppings':[4],'Toppings':[\", \".join(sorted_data[i][0])], 'Num Orders':[sorted_data[i][1]]})\n",
    "    df1 = pd.concat([df1,new_row],ignore_index=True)\n",
    "    print(sorted_data[i])\n",
    "sum_other_4 = 0\n",
    "for i in range(5,len(pair_count_4)):\n",
    "    sum_other_4+=sorted_data[i][1]\n",
    "new_row = pd.DataFrame({'N-Toppings':[4],'Toppings':[\"Other\"], 'Num Orders':[sum_other_4]})\n",
    "df1 = pd.concat([df1,new_row],ignore_index=True)"
   ]
  },
  {
   "cell_type": "code",
   "execution_count": 12,
   "metadata": {},
   "outputs": [],
   "source": [
    "pop_items = ['Parmesan','Breadcrumbs', 'Brisket', 'Grilled Chicken', 'Onions', 'Bacon', 'Brocoli','Corn','Mushrooms','Jalapenos','Bell Peppers','Tomatoes', 'Pulled Pork','Pineapple','Ham']\n",
    "pair_count_5 = []\n",
    "foodItemToSearch = \"Mac and Cheese\"\n",
    "for combo in combinations(pop_items,5):\n",
    "    count = 0\n",
    "    for order in orderList:\n",
    "        count+=order.findCombinationWithFood(list(combo), foodItemToSearch)\n",
    "    pair_count_5.append((list(combo),count))"
   ]
  },
  {
   "cell_type": "code",
   "execution_count": 13,
   "metadata": {},
   "outputs": [
    {
     "name": "stdout",
     "output_type": "stream",
     "text": [
      "(['Parmesan', 'Breadcrumbs', 'Onions', 'Jalapenos', 'Bell Peppers'], 565)\n",
      "(['Parmesan', 'Breadcrumbs', 'Onions', 'Corn', 'Bell Peppers'], 529)\n",
      "(['Parmesan', 'Breadcrumbs', 'Onions', 'Mushrooms', 'Bell Peppers'], 509)\n",
      "(['Parmesan', 'Breadcrumbs', 'Onions', 'Bell Peppers', 'Tomatoes'], 489)\n",
      "(['Parmesan', 'Breadcrumbs', 'Onions', 'Corn', 'Jalapenos'], 478)\n"
     ]
    }
   ],
   "source": [
    "sorted_data = sorted(pair_count_5, key=lambda x: x[1], reverse=True)\n",
    "for i in range(5):\n",
    "    new_row = pd.DataFrame({'N-Toppings':[5],'Toppings':[\", \".join(sorted_data[i][0])], 'Num Orders':[sorted_data[i][1]]})\n",
    "    df1 = pd.concat([df1,new_row],ignore_index=True)\n",
    "    print(sorted_data[i])\n",
    "sum_other_5 = 0\n",
    "for i in range(5,len(pair_count_5)):\n",
    "    sum_other_5+=sorted_data[i][1]\n",
    "new_row = pd.DataFrame({'N-Toppings':[5],'Toppings':[\"Other\"], 'Num Orders':[sum_other_5]})\n",
    "df1 = pd.concat([df1,new_row],ignore_index=True)"
   ]
  },
  {
   "cell_type": "code",
   "execution_count": 14,
   "metadata": {},
   "outputs": [],
   "source": [
    "df1.to_csv(\"C:/Users/fredy/Projects/TAMUDatathon/Pop_Top_Mac.csv\", index=False)"
   ]
  },
  {
   "cell_type": "code",
   "execution_count": 15,
   "metadata": {},
   "outputs": [],
   "source": [
    "df2 = pd.DataFrame(np.nan, columns=['N-Toppings','Toppings','Num Orders'], index=range(0,0))\n"
   ]
  },
  {
   "cell_type": "code",
   "execution_count": 16,
   "metadata": {},
   "outputs": [],
   "source": [
    "pop_items = ['Parmesan','Breadcrumbs', 'Brisket', 'Grilled Chicken', 'Onions', 'Bacon', 'Brocoli','Corn','Mushrooms','Jalapenos','Bell Peppers','Tomatoes', 'Pulled Pork','Pineapple','Ham']\n",
    "pair_count_1 = []\n",
    "foodItemToSearch = \"Grilled Cheese Sandwich\"\n",
    "for combo in combinations(pop_items,1):\n",
    "    count = 0\n",
    "    for order in orderList:\n",
    "        count+=order.findCombinationWithFood(list(combo), foodItemToSearch)\n",
    "    pair_count_1.append((list(combo),count))"
   ]
  },
  {
   "cell_type": "code",
   "execution_count": 17,
   "metadata": {},
   "outputs": [
    {
     "name": "stdout",
     "output_type": "stream",
     "text": [
      "(['Brisket'], 781)\n",
      "(['Parmesan'], 734)\n",
      "(['Onions'], 557)\n",
      "(['Breadcrumbs'], 515)\n",
      "(['Grilled Chicken'], 493)\n"
     ]
    }
   ],
   "source": [
    "sorted_data = sorted(pair_count_1, key=lambda x: x[1], reverse=True)\n",
    "for i in range(5):\n",
    "    new_row = pd.DataFrame({'N-Toppings':[1],'Toppings':[\", \".join(sorted_data[i][0])], 'Num Orders':[sorted_data[i][1]]})\n",
    "    df2 = pd.concat([df2,new_row],ignore_index=True)\n",
    "    print(sorted_data[i])\n",
    "sum_other_1 = 0\n",
    "for i in range(5,len(pair_count_1)):\n",
    "    sum_other_1+=sorted_data[i][1]\n",
    "new_row = pd.DataFrame({'N-Toppings':[1],'Toppings':[\"Other\"], 'Num Orders':[sum_other_1]})\n",
    "df2 = pd.concat([df2,new_row],ignore_index=True)"
   ]
  },
  {
   "cell_type": "code",
   "execution_count": 18,
   "metadata": {},
   "outputs": [],
   "source": [
    "pop_items = ['Parmesan','Breadcrumbs', 'Brisket', 'Grilled Chicken', 'Onions', 'Bacon', 'Brocoli','Corn','Mushrooms','Jalapenos','Bell Peppers','Tomatoes', 'Pulled Pork','Pineapple','Ham']\n",
    "pair_count_2 = []\n",
    "foodItemToSearch = \"Grilled Cheese Sandwich\"\n",
    "for combo in combinations(pop_items,2):\n",
    "    count = 0\n",
    "    for order in orderList:\n",
    "        count+=order.findCombinationWithFood(list(combo), foodItemToSearch)\n",
    "    pair_count_2.append((list(combo),count))"
   ]
  },
  {
   "cell_type": "code",
   "execution_count": 19,
   "metadata": {},
   "outputs": [
    {
     "name": "stdout",
     "output_type": "stream",
     "text": [
      "(['Parmesan', 'Breadcrumbs'], 336)\n",
      "(['Parmesan', 'Onions'], 195)\n",
      "(['Parmesan', 'Brisket'], 189)\n",
      "(['Onions', 'Bell Peppers'], 177)\n",
      "(['Onions', 'Jalapenos'], 171)\n"
     ]
    }
   ],
   "source": [
    "sorted_data = sorted(pair_count_2, key=lambda x: x[1], reverse=True)\n",
    "for i in range(5):\n",
    "    new_row = pd.DataFrame({'N-Toppings':[2],'Toppings':[\", \".join(sorted_data[i][0])], 'Num Orders':[sorted_data[i][1]]})\n",
    "    df2 = pd.concat([df2,new_row],ignore_index=True)\n",
    "    print(sorted_data[i])\n",
    "sum_other_2 = 0\n",
    "for i in range(5,len(pair_count_2)):\n",
    "    sum_other_2+=sorted_data[i][1]\n",
    "new_row = pd.DataFrame({'N-Toppings':[2],'Toppings':[\"Other\"], 'Num Orders':[sum_other_2]})\n",
    "df2 = pd.concat([df2,new_row],ignore_index=True)"
   ]
  },
  {
   "cell_type": "code",
   "execution_count": 20,
   "metadata": {},
   "outputs": [],
   "source": [
    "pop_items = ['Parmesan','Breadcrumbs', 'Brisket', 'Grilled Chicken', 'Onions', 'Bacon', 'Brocoli','Corn','Mushrooms','Jalapenos','Bell Peppers','Tomatoes', 'Pulled Pork','Pineapple','Ham']\n",
    "pair_count_3 = []\n",
    "foodItemToSearch = \"Grilled Cheese Sandwich\"\n",
    "for combo in combinations(pop_items,3):\n",
    "    count = 0\n",
    "    for order in orderList:\n",
    "        count+=order.findCombinationWithFood(list(combo), foodItemToSearch)\n",
    "    pair_count_3.append((list(combo),count))"
   ]
  },
  {
   "cell_type": "code",
   "execution_count": 21,
   "metadata": {},
   "outputs": [
    {
     "name": "stdout",
     "output_type": "stream",
     "text": [
      "(['Parmesan', 'Breadcrumbs', 'Onions'], 107)\n",
      "(['Parmesan', 'Breadcrumbs', 'Mushrooms'], 84)\n",
      "(['Parmesan', 'Breadcrumbs', 'Grilled Chicken'], 82)\n",
      "(['Parmesan', 'Breadcrumbs', 'Brisket'], 81)\n",
      "(['Parmesan', 'Onions', 'Tomatoes'], 73)\n"
     ]
    }
   ],
   "source": [
    "sorted_data = sorted(pair_count_3, key=lambda x: x[1], reverse=True)\n",
    "for i in range(5):\n",
    "    new_row = pd.DataFrame({'N-Toppings':[3],'Toppings':[\", \".join(sorted_data[i][0])], 'Num Orders':[sorted_data[i][1]]})\n",
    "    df2 = pd.concat([df2,new_row],ignore_index=True)\n",
    "    print(sorted_data[i])\n",
    "sum_other_3 = 0\n",
    "for i in range(5,len(pair_count_3)):\n",
    "    sum_other_3+=sorted_data[i][1]\n",
    "new_row = pd.DataFrame({'N-Toppings':[3],'Toppings':[\"Other\"], 'Num Orders':[sum_other_3]})\n",
    "df2 = pd.concat([df2,new_row],ignore_index=True)"
   ]
  },
  {
   "cell_type": "code",
   "execution_count": 22,
   "metadata": {},
   "outputs": [],
   "source": [
    "pop_items = ['Parmesan','Breadcrumbs', 'Brisket', 'Grilled Chicken', 'Onions', 'Bacon', 'Brocoli','Corn','Mushrooms','Jalapenos','Bell Peppers','Tomatoes', 'Pulled Pork','Pineapple','Ham']\n",
    "pair_count_4 = []\n",
    "foodItemToSearch = \"Grilled Cheese Sandwich\"\n",
    "for combo in combinations(pop_items,4):\n",
    "    count = 0\n",
    "    for order in orderList:\n",
    "        count+=order.findCombinationWithFood(list(combo), foodItemToSearch)\n",
    "    pair_count_4.append((list(combo),count))"
   ]
  },
  {
   "cell_type": "code",
   "execution_count": 23,
   "metadata": {},
   "outputs": [
    {
     "name": "stdout",
     "output_type": "stream",
     "text": [
      "(['Parmesan', 'Breadcrumbs', 'Onions', 'Mushrooms'], 47)\n",
      "(['Parmesan', 'Breadcrumbs', 'Onions', 'Tomatoes'], 45)\n",
      "(['Parmesan', 'Breadcrumbs', 'Onions', 'Bell Peppers'], 40)\n",
      "(['Parmesan', 'Breadcrumbs', 'Bell Peppers', 'Tomatoes'], 39)\n",
      "(['Parmesan', 'Breadcrumbs', 'Onions', 'Jalapenos'], 36)\n"
     ]
    }
   ],
   "source": [
    "sorted_data = sorted(pair_count_4, key=lambda x: x[1], reverse=True)\n",
    "for i in range(5):\n",
    "    new_row = pd.DataFrame({'N-Toppings':[4],'Toppings':[\", \".join(sorted_data[i][0])], 'Num Orders':[sorted_data[i][1]]})\n",
    "    df2 = pd.concat([df2,new_row],ignore_index=True)\n",
    "    print(sorted_data[i])\n",
    "sum_other_4 = 0\n",
    "for i in range(5,len(pair_count_4)):\n",
    "    sum_other_4+=sorted_data[i][1]\n",
    "new_row = pd.DataFrame({'N-Toppings':[4],'Toppings':[\"Other\"], 'Num Orders':[sum_other_4]})\n",
    "df2 = pd.concat([df2,new_row],ignore_index=True)"
   ]
  },
  {
   "cell_type": "code",
   "execution_count": 24,
   "metadata": {},
   "outputs": [],
   "source": [
    "pop_items = ['Parmesan','Breadcrumbs', 'Brisket', 'Grilled Chicken', 'Onions', 'Bacon', 'Brocoli','Corn','Mushrooms','Jalapenos','Bell Peppers','Tomatoes', 'Pulled Pork','Pineapple','Ham']\n",
    "pair_count_5 = []\n",
    "foodItemToSearch = \"Grilled Cheese Sandwich\"\n",
    "for combo in combinations(pop_items,5):\n",
    "    count = 0\n",
    "    for order in orderList:\n",
    "        count+=order.findCombinationWithFood(list(combo), foodItemToSearch)\n",
    "    pair_count_5.append((list(combo),count))"
   ]
  },
  {
   "cell_type": "code",
   "execution_count": 25,
   "metadata": {},
   "outputs": [
    {
     "name": "stdout",
     "output_type": "stream",
     "text": [
      "(['Parmesan', 'Breadcrumbs', 'Onions', 'Bell Peppers', 'Tomatoes'], 24)\n",
      "(['Parmesan', 'Breadcrumbs', 'Jalapenos', 'Bell Peppers', 'Tomatoes'], 24)\n",
      "(['Parmesan', 'Breadcrumbs', 'Onions', 'Mushrooms', 'Tomatoes'], 22)\n",
      "(['Parmesan', 'Onions', 'Jalapenos', 'Bell Peppers', 'Tomatoes'], 20)\n",
      "(['Parmesan', 'Breadcrumbs', 'Onions', 'Corn', 'Tomatoes'], 19)\n"
     ]
    }
   ],
   "source": [
    "sorted_data = sorted(pair_count_5, key=lambda x: x[1], reverse=True)\n",
    "for i in range(5):\n",
    "    new_row = pd.DataFrame({'N-Toppings':[5],'Toppings':[\", \".join(sorted_data[i][0])], 'Num Orders':[sorted_data[i][1]]})\n",
    "    df2 = pd.concat([df2,new_row],ignore_index=True)\n",
    "    print(sorted_data[i])\n",
    "sum_other_5 = 0\n",
    "for i in range(5,len(pair_count_5)):\n",
    "    sum_other_5+=sorted_data[i][1]\n",
    "new_row = pd.DataFrame({'N-Toppings':[5],'Toppings':[\"Other\"], 'Num Orders':[sum_other_5]})\n",
    "df2 = pd.concat([df2,new_row],ignore_index=True)"
   ]
  },
  {
   "cell_type": "code",
   "execution_count": 27,
   "metadata": {},
   "outputs": [],
   "source": [
    "df2.to_csv(\"C:/Users/fredy/Projects/TAMUDatathon/Pop_Top_Sandwich.csv\",index=False)"
   ]
  }
 ],
 "metadata": {
  "kernelspec": {
   "display_name": "Python 3",
   "language": "python",
   "name": "python3"
  },
  "language_info": {
   "codemirror_mode": {
    "name": "ipython",
    "version": 3
   },
   "file_extension": ".py",
   "mimetype": "text/x-python",
   "name": "python",
   "nbconvert_exporter": "python",
   "pygments_lexer": "ipython3",
   "version": "3.11.9"
  }
 },
 "nbformat": 4,
 "nbformat_minor": 2
}
