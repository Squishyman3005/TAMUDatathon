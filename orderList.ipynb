{
 "cells": [
  {
   "cell_type": "code",
   "execution_count": 23,
   "metadata": {},
   "outputs": [],
   "source": [
    "import pandas as pd\n",
    "from FoodItemClass import FoodItem\n",
    "from orderClass import Order\n",
    "from itertools import combinations"
   ]
  },
  {
   "cell_type": "code",
   "execution_count": 1,
   "metadata": {},
   "outputs": [
    {
     "name": "stdout",
     "output_type": "stream",
     "text": [
      "0\n"
     ]
    }
   ],
   "source": [
    "import pandas as pd\n",
    "from FoodItemClass import FoodItem\n",
    "from orderClass import Order\n",
    "\n",
    "# Read in the file, order number can be added after being sorted\n",
    "# if reading in \n",
    "def getFoodAndOrderIndexes(combined_df):\n",
    "    indexes = []\n",
    "    indexes.append(0)\n",
    "    firstRow = True\n",
    "    listIndexes = []\n",
    "    orderList = []\n",
    "    for index, row in combined_df.iterrows():\n",
    "        if (firstRow):\n",
    "            prev = row[\"Order #\"]\n",
    "            date = row[\"Sent Date\"]\n",
    "            listIndexes += [index]\n",
    "            a = Order(date)\n",
    "            orderList += [a]\n",
    "            firstRow = False\n",
    "        else:\n",
    "            current = row[\"Order #\"]\n",
    "            if (prev != current):\n",
    "                prev = current\n",
    "                date = row[\"Sent Date\"]\n",
    "                listIndexes += [index]\n",
    "                a = Order(date)\n",
    "                orderList += [a]\n",
    "        # case for mac and cheese\n",
    "        # if either the next row has noodles or isn't mac and cheese append that index\n",
    "        if (index == (len(combined_df) - 2) ):\n",
    "            break\n",
    "        if row[\"Parent Menu Selection\"] == \"Mac and Cheese\":\n",
    "            if (row[\"Parent Menu Selection\"] != combined_df.iloc[index + 1][\"Parent Menu Selection\"]) or (combined_df.iloc[index+1][\"Option Group Name\"] == \"Noods\"):\n",
    "                indexes.append(index + 1)\n",
    "        if row[\"Parent Menu Selection\"] == \"Grilled Cheese Sandwich\":\n",
    "            if (row[\"Parent Menu Selection\"] != combined_df.iloc[index+1][\"Parent Menu Selection\"]) or (combined_df.iloc[index+1][\"Option Group Name\"] == \"Choose Your Meats\"):\n",
    "                indexes.append(index + 1)\n",
    "        if row[\"Parent Menu Selection\"] == \"Sides/Desserts\":\n",
    "            indexes.append(index + 1)\n",
    "        if row[\"Parent Menu Selection\"] == \"Drinks\":\n",
    "            indexes.append(index+1)\n",
    "        if row[\"Parent Menu Selection\"] == \"Mac and Cheese Party Tray (Plus FREE Garlic Bread)\":\n",
    "            indexes.append(index+1)\n",
    "    indexes += [len(combined_df) - 1]\n",
    "    return indexes, orderList, listIndexes\n",
    "\n",
    "# Various statistical tests\n",
    "combined_df = pd.read_csv(\"combined_sheets_with_june.csv\")\n",
    "# orderslist = []\n",
    "# for index, row in combined_df.iterrows():\n",
    "#     ordernumber = row[0]\n",
    "#     currentOrder_df = combined_df.iloc(index)\n",
    "    \n",
    "#     addOrder(orderslist, currentOrder_df)\n",
    "foodsIndex, orderList, listIndexes = getFoodAndOrderIndexes(combined_df)\n",
    "foods = []\n",
    "firstRow = True\n",
    "a = FoodItem(\"\")\n",
    "counter1 = 1 ; counter2 = 0\n",
    "n = 1\n",
    "s = 0\n",
    "l = 1\n",
    "for index, row in combined_df.iterrows():\n",
    "    # Need to iterate through rows for order 0 until row index reaches listIndexes[1]\n",
    "    # when it reaches listIndexes[1] increment to listIndexes[2] and start orderList[1]\n",
    "    # need to iterate for individual food items until index = foodsIndex[1] then increment to foodsIndex[2]\n",
    "    # only create a new food item when index == foodsIndex[n]\n",
    "    \n",
    "    if ((index == 0 or index == foodsIndex[n]) and n != len(foodsIndex) - 1):\n",
    "        if (index != 0):\n",
    "            orderList[s].addFoodItems(a)\n",
    "            a = FoodItem(row[\"Parent Menu Selection\"])\n",
    "        if (index == 0):\n",
    "            a = FoodItem(row[\"Parent Menu Selection\"])\n",
    "        if (index == foodsIndex[n]):\n",
    "            n += 1\n",
    "    a.addModifierGroup(row[\"Option Group Name\"])\n",
    "    a.addModifiers(row[\"Modifier\"])\n",
    "    if (index == listIndexes[l] and l != len(listIndexes)-1):            \n",
    "        l += 1\n",
    "        s +=1\n"
   ]
  },
  {
   "cell_type": "code",
   "execution_count": 24,
   "metadata": {},
   "outputs": [],
   "source": [
    "pop_items = ['Parmesan','Breadcrumbs', 'Brisket', 'Grilled Chicken', 'Onions', 'Bacon', 'Brocoli','Corn','Mushrooms','Jalapenos','Bell Peppers','Tomatoes', 'Pulled Pork','Pineapple','Ham']\n",
    "pair_count_2 = []\n",
    "for combo in combinations(pop_items,2):\n",
    "    count = 0\n",
    "    for order in orderList:\n",
    "        count+=order.findCombination(list(combo))\n",
    "    pair_count_2.append((list(combo),count))"
   ]
  },
  {
   "cell_type": "code",
   "execution_count": 25,
   "metadata": {},
   "outputs": [
    {
     "name": "stdout",
     "output_type": "stream",
     "text": [
      "(['Parmesan', 'Breadcrumbs'], 10848)\n",
      "(['Parmesan', 'Brisket'], 5160)\n",
      "(['Parmesan', 'Grilled Chicken'], 5120)\n",
      "(['Breadcrumbs', 'Brisket'], 5058)\n",
      "(['Parmesan', 'Onions'], 4882)\n",
      "(['Breadcrumbs', 'Onions'], 4638)\n",
      "(['Breadcrumbs', 'Grilled Chicken'], 4415)\n",
      "(['Parmesan', 'Bacon'], 3811)\n",
      "(['Parmesan', 'Corn'], 3782)\n",
      "(['Parmesan', 'Mushrooms'], 3750)\n"
     ]
    }
   ],
   "source": [
    "sorted_data = sorted(pair_count_2, key=lambda x: x[1], reverse=True)\n",
    "for i in range(10):\n",
    "    print(sorted_data[i])"
   ]
  },
  {
   "cell_type": "code",
   "execution_count": 26,
   "metadata": {},
   "outputs": [],
   "source": [
    "pop_items = ['Parmesan','Breadcrumbs', 'Brisket', 'Grilled Chicken', 'Onions', 'Bacon', 'Brocoli','Corn','Mushrooms','Jalapenos','Bell Peppers','Tomatoes', 'Pulled Pork','Pineapple','Ham']\n",
    "pair_count_3 = []\n",
    "for combo in combinations(pop_items,3):\n",
    "    count = 0\n",
    "    for order in orderList:\n",
    "        count+=order.findCombination(list(combo))\n",
    "    pair_count_3.append((list(combo),count))"
   ]
  },
  {
   "cell_type": "code",
   "execution_count": 27,
   "metadata": {},
   "outputs": [
    {
     "name": "stdout",
     "output_type": "stream",
     "text": [
      "(['Parmesan', 'Breadcrumbs', 'Brisket'], 3547)\n",
      "(['Parmesan', 'Breadcrumbs', 'Onions'], 3422)\n",
      "(['Parmesan', 'Breadcrumbs', 'Grilled Chicken'], 3245)\n",
      "(['Parmesan', 'Breadcrumbs', 'Bacon'], 2626)\n",
      "(['Parmesan', 'Breadcrumbs', 'Corn'], 2611)\n",
      "(['Parmesan', 'Breadcrumbs', 'Mushrooms'], 2527)\n",
      "(['Parmesan', 'Breadcrumbs', 'Jalapenos'], 2424)\n",
      "(['Parmesan', 'Breadcrumbs', 'Bell Peppers'], 2244)\n",
      "(['Parmesan', 'Onions', 'Bell Peppers'], 1986)\n",
      "(['Breadcrumbs', 'Onions', 'Bell Peppers'], 1930)\n"
     ]
    }
   ],
   "source": [
    "sorted_data = sorted(pair_count_3, key=lambda x: x[1], reverse=True)\n",
    "for i in range(10):\n",
    "    print(sorted_data[i])"
   ]
  },
  {
   "cell_type": "code",
   "execution_count": 28,
   "metadata": {},
   "outputs": [],
   "source": [
    "pop_items = ['Parmesan','Breadcrumbs', 'Brisket', 'Grilled Chicken', 'Onions', 'Bacon', 'Brocoli','Corn','Mushrooms','Jalapenos','Bell Peppers','Tomatoes', 'Pulled Pork','Pineapple','Ham']\n",
    "pair_count_4 = []\n",
    "for combo in combinations(pop_items,4):\n",
    "    count = 0\n",
    "    for order in orderList:\n",
    "        count+=order.findCombination(list(combo))\n",
    "    pair_count_4.append((list(combo),count))\n"
   ]
  },
  {
   "cell_type": "code",
   "execution_count": 29,
   "metadata": {},
   "outputs": [
    {
     "name": "stdout",
     "output_type": "stream",
     "text": [
      "(['Parmesan', 'Breadcrumbs', 'Onions', 'Bell Peppers'], 1447)\n",
      "(['Parmesan', 'Breadcrumbs', 'Onions', 'Jalapenos'], 1385)\n",
      "(['Parmesan', 'Breadcrumbs', 'Onions', 'Corn'], 1324)\n",
      "(['Parmesan', 'Breadcrumbs', 'Onions', 'Mushrooms'], 1283)\n",
      "(['Parmesan', 'Breadcrumbs', 'Brisket', 'Onions'], 1174)\n",
      "(['Parmesan', 'Breadcrumbs', 'Onions', 'Tomatoes'], 1100)\n",
      "(['Parmesan', 'Breadcrumbs', 'Jalapenos', 'Bell Peppers'], 1036)\n",
      "(['Parmesan', 'Breadcrumbs', 'Grilled Chicken', 'Onions'], 1010)\n",
      "(['Parmesan', 'Breadcrumbs', 'Corn', 'Mushrooms'], 1007)\n",
      "(['Parmesan', 'Onions', 'Jalapenos', 'Bell Peppers'], 989)\n"
     ]
    }
   ],
   "source": [
    "sorted_data = sorted(pair_count_4, key=lambda x: x[1], reverse=True)\n",
    "for i in range(10):\n",
    "    print(sorted_data[i])"
   ]
  },
  {
   "cell_type": "code",
   "execution_count": 30,
   "metadata": {},
   "outputs": [],
   "source": [
    "pop_items = ['Parmesan','Breadcrumbs', 'Brisket', 'Grilled Chicken', 'Onions', 'Bacon', 'Brocoli','Corn','Mushrooms','Jalapenos','Bell Peppers','Tomatoes', 'Pulled Pork','Pineapple','Ham']\n",
    "pair_count_5 = []\n",
    "for combo in combinations(pop_items,5):\n",
    "    count = 0\n",
    "    for order in orderList:\n",
    "        count+=order.findCombination(list(combo))\n",
    "    pair_count_5.append((list(combo),count))"
   ]
  },
  {
   "cell_type": "code",
   "execution_count": 31,
   "metadata": {},
   "outputs": [
    {
     "name": "stdout",
     "output_type": "stream",
     "text": [
      "(['Parmesan', 'Breadcrumbs', 'Onions', 'Jalapenos', 'Bell Peppers'], 752)\n",
      "(['Parmesan', 'Breadcrumbs', 'Onions', 'Corn', 'Bell Peppers'], 677)\n",
      "(['Parmesan', 'Breadcrumbs', 'Onions', 'Mushrooms', 'Bell Peppers'], 658)\n",
      "(['Parmesan', 'Breadcrumbs', 'Onions', 'Bell Peppers', 'Tomatoes'], 642)\n",
      "(['Parmesan', 'Breadcrumbs', 'Onions', 'Corn', 'Jalapenos'], 622)\n",
      "(['Parmesan', 'Breadcrumbs', 'Onions', 'Corn', 'Mushrooms'], 598)\n",
      "(['Parmesan', 'Breadcrumbs', 'Onions', 'Mushrooms', 'Jalapenos'], 576)\n",
      "(['Parmesan', 'Breadcrumbs', 'Onions', 'Corn', 'Tomatoes'], 562)\n",
      "(['Parmesan', 'Onions', 'Corn', 'Jalapenos', 'Bell Peppers'], 544)\n",
      "(['Parmesan', 'Breadcrumbs', 'Corn', 'Jalapenos', 'Bell Peppers'], 524)\n"
     ]
    }
   ],
   "source": [
    "sorted_data = sorted(pair_count_5, key=lambda x: x[1], reverse=True)\n",
    "for i in range(10):\n",
    "    print(sorted_data[i])"
   ]
  }
 ],
 "metadata": {
  "kernelspec": {
   "display_name": "Python 3",
   "language": "python",
   "name": "python3"
  },
  "language_info": {
   "codemirror_mode": {
    "name": "ipython",
    "version": 3
   },
   "file_extension": ".py",
   "mimetype": "text/x-python",
   "name": "python",
   "nbconvert_exporter": "python",
   "pygments_lexer": "ipython3",
   "version": "3.9.6"
  }
 },
 "nbformat": 4,
 "nbformat_minor": 2
}
