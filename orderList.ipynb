{
 "cells": [
  {
   "cell_type": "code",
   "execution_count": 40,
   "metadata": {},
   "outputs": [],
   "source": [
    "import pandas as pd\n",
    "from FoodItemClass import FoodItem\n",
    "from orderClass import Order\n",
    "from itertools import combinations\n",
    "import numpy as np"
   ]
  },
  {
   "cell_type": "code",
   "execution_count": null,
   "metadata": {},
   "outputs": [],
   "source": [
    "import pandas as pd\n",
    "from FoodItemClass import FoodItem\n",
    "from orderClass import Order\n",
    "from itertools import combinations\n",
    "# Read in the file, order number can be added after being sorted\n",
    "# if reading in \n",
    "def getFoodAndOrderIndexes(combined_df):\n",
    "    indexes = []\n",
    "    indexes.append(0)\n",
    "    firstRow = True\n",
    "    listIndexes = []\n",
    "    orderList = []\n",
    "    for index, row in combined_df.iterrows():\n",
    "        if (firstRow):\n",
    "            prev = row[\"Order #\"]\n",
    "            date = row[\"Sent Date\"]\n",
    "            listIndexes += [index]\n",
    "            a = Order(date)\n",
    "            orderList += [a]\n",
    "            firstRow = False\n",
    "        else:\n",
    "            current = row[\"Order #\"]\n",
    "            if (prev != current):\n",
    "                prev = current\n",
    "                date = row[\"Sent Date\"]\n",
    "                listIndexes += [index]\n",
    "                a = Order(date)\n",
    "                orderList += [a]\n",
    "        # case for mac and cheese\n",
    "        # if either the next row has noodles or isn't mac and cheese append that index\n",
    "        if (index == (len(combined_df) - 2) ):\n",
    "            break\n",
    "        if row[\"Parent Menu Selection\"] == \"Mac and Cheese\":\n",
    "            if (row[\"Parent Menu Selection\"] != combined_df.iloc[index + 1][\"Parent Menu Selection\"]) or (combined_df.iloc[index+1][\"Option Group Name\"] == \"Noods\"):\n",
    "                indexes.append(index + 1)\n",
    "        if row[\"Parent Menu Selection\"] == \"Grilled Cheese Sandwich\":\n",
    "            if (row[\"Parent Menu Selection\"] != combined_df.iloc[index+1][\"Parent Menu Selection\"]) or (combined_df.iloc[index+1][\"Option Group Name\"] == \"Choose Your Meats\"):\n",
    "                indexes.append(index + 1)\n",
    "        if row[\"Parent Menu Selection\"] == \"Sides/Desserts\":\n",
    "            indexes.append(index + 1)\n",
    "        if row[\"Parent Menu Selection\"] == \"Drinks\":\n",
    "            indexes.append(index+1)\n",
    "        if row[\"Parent Menu Selection\"] == \"Mac and Cheese Party Tray (Plus FREE Garlic Bread)\":\n",
    "            indexes.append(index+1)\n",
    "    indexes += [len(combined_df) - 1]\n",
    "    return indexes, orderList, listIndexes\n",
    "\n",
    "# Various statistical tests\n",
    "combined_df = pd.read_csv(\"combined_sheets_with_june.csv\")\n",
    "# orderslist = []\n",
    "# for index, row in combined_df.iterrows():\n",
    "#     ordernumber = row[0]\n",
    "#     currentOrder_df = combined_df.iloc(index)\n",
    "    \n",
    "#     addOrder(orderslist, currentOrder_df)\n",
    "foodsIndex, orderList, listIndexes = getFoodAndOrderIndexes(combined_df)\n",
    "foods = []\n",
    "firstRow = True\n",
    "a = FoodItem(\"\")\n",
    "counter1 = 1 ; counter2 = 0\n",
    "n = 1\n",
    "s = 0\n",
    "l = 1\n",
    "for index, row in combined_df.iterrows():\n",
    "    # Need to iterate through rows for order 0 until row index reaches listIndexes[1]\n",
    "    # when it reaches listIndexes[1] increment to listIndexes[2] and start orderList[1]\n",
    "    # need to iterate for individual food items until index = foodsIndex[1] then increment to foodsIndex[2]\n",
    "    # only create a new food item when index == foodsIndex[n]\n",
    "    \n",
    "    if ((index == 0 or index == foodsIndex[n]) and n != len(foodsIndex) - 1):\n",
    "        if (index != 0):\n",
    "            orderList[s].addFoodItems(a)\n",
    "            a = FoodItem(row[\"Parent Menu Selection\"])\n",
    "        if (index == 0):\n",
    "            a = FoodItem(row[\"Parent Menu Selection\"])\n",
    "        if (index == foodsIndex[n]):\n",
    "            n += 1\n",
    "    a.addModifierGroup(row[\"Option Group Name\"])\n",
    "    a.addModifiers(row[\"Modifier\"])\n",
    "    if (index == listIndexes[l] and l != len(listIndexes)-1):            \n",
    "        l += 1\n",
    "        s +=1\n"
   ]
  },
  {
   "cell_type": "code",
   "execution_count": null,
   "metadata": {},
   "outputs": [],
   "source": [
    "pop_items = ['Parmesan','Breadcrumbs', 'Brisket', 'Grilled Chicken', 'Onions', 'Bacon', 'Brocoli','Corn','Mushrooms','Jalapenos','Bell Peppers','Tomatoes', 'Pulled Pork','Pineapple','Ham']\n",
    "pair_count_2 = []\n",
    "for combo in combinations(pop_items,2):\n",
    "    count = 0\n",
    "    for order in orderList:\n",
    "        count+=order.findCombination(list(combo))\n",
    "    pair_count_2.append((list(combo),count))"
   ]
  },
  {
   "cell_type": "code",
   "execution_count": null,
   "metadata": {},
   "outputs": [],
   "source": [
    "sorted_data = sorted(pair_count_2, key=lambda x: x[1], reverse=True)\n",
    "for i in range(10):\n",
    "    print(sorted_data[i])"
   ]
  },
  {
   "cell_type": "code",
   "execution_count": null,
   "metadata": {},
   "outputs": [],
   "source": [
    "pop_items = ['Parmesan','Breadcrumbs', 'Brisket', 'Grilled Chicken', 'Onions', 'Bacon', 'Brocoli','Corn','Mushrooms','Jalapenos','Bell Peppers','Tomatoes', 'Pulled Pork','Pineapple','Ham']\n",
    "pair_count_3 = []\n",
    "for combo in combinations(pop_items,3):\n",
    "    count = 0\n",
    "    for order in orderList:\n",
    "        count+=order.findCombination(list(combo))\n",
    "    pair_count_3.append((list(combo),count))"
   ]
  },
  {
   "cell_type": "code",
   "execution_count": null,
   "metadata": {},
   "outputs": [],
   "source": [
    "sorted_data = sorted(pair_count_3, key=lambda x: x[1], reverse=True)\n",
    "for i in range(10):\n",
    "    print(sorted_data[i])"
   ]
  },
  {
   "cell_type": "code",
   "execution_count": 15,
   "metadata": {},
   "outputs": [],
   "source": [
    "pop_items = ['Parmesan','Breadcrumbs', 'Brisket', 'Grilled Chicken', 'Onions', 'Bacon', 'Brocoli','Corn','Mushrooms','Jalapenos','Bell Peppers','Tomatoes', 'Pulled Pork','Pineapple','Ham']\n",
    "pair_count_4 = []\n",
    "for combo in combinations(pop_items,4):\n",
    "    count = 0\n",
    "    for order in orderList:\n",
    "        count+=order.findCombination(list(combo))\n",
    "    pair_count_4.append((list(combo),count))\n"
   ]
  },
  {
   "cell_type": "code",
   "execution_count": null,
   "metadata": {},
   "outputs": [],
   "source": [
    "sorted_data = sorted(pair_count_4, key=lambda x: x[1], reverse=True)\n",
    "for i in range(10):\n",
    "    print(sorted_data[i])"
   ]
  },
  {
   "cell_type": "code",
   "execution_count": null,
   "metadata": {},
   "outputs": [],
   "source": [
    "pop_items = ['Parmesan','Breadcrumbs', 'Brisket', 'Grilled Chicken', 'Onions', 'Bacon', 'Brocoli','Corn','Mushrooms','Jalapenos','Bell Peppers','Tomatoes', 'Pulled Pork','Pineapple','Ham']\n",
    "pair_count_5 = []\n",
    "for combo in combinations(pop_items,5):\n",
    "    count = 0\n",
    "    for order in orderList:\n",
    "        count+=order.findCombination(list(combo))\n",
    "    pair_count_5.append((list(combo),count))"
   ]
  },
  {
   "cell_type": "code",
   "execution_count": null,
   "metadata": {},
   "outputs": [],
   "source": [
    "sorted_data = sorted(pair_count_5, key=lambda x: x[1], reverse=True)\n",
    "for i in range(10):\n",
    "    print(sorted_data[i])"
   ]
  },
  {
   "cell_type": "code",
   "execution_count": 52,
   "metadata": {},
   "outputs": [],
   "source": [
    "df = pd.DataFrame(np.nan, columns=['N-Toppings','Toppings','Num Orders'], index=range(0,0))\n"
   ]
  },
  {
   "cell_type": "code",
   "execution_count": 53,
   "metadata": {},
   "outputs": [],
   "source": [
    "pop_items = ['Parmesan','Breadcrumbs', 'Brisket', 'Grilled Chicken', 'Onions', 'Bacon', 'Brocoli','Corn','Mushrooms','Jalapenos','Bell Peppers','Tomatoes', 'Pulled Pork','Pineapple','Ham']\n",
    "pair_count_1 = []\n",
    "foodItemToSearch = \"Mac and Cheese\"\n",
    "for combo in combinations(pop_items,2):\n",
    "    count = 0\n",
    "    for order in orderList:\n",
    "        count+=order.findCombinationWithFood(list(combo), foodItemToSearch)\n",
    "    pair_count_1.append((list(combo),count))"
   ]
  },
  {
   "cell_type": "code",
   "execution_count": 54,
   "metadata": {},
   "outputs": [
    {
     "name": "stdout",
     "output_type": "stream",
     "text": [
      "(['Parmesan', 'Breadcrumbs'], 8947)\n",
      "(['Parmesan', 'Grilled Chicken'], 4320)\n",
      "(['Parmesan', 'Brisket'], 4253)\n",
      "(['Breadcrumbs', 'Brisket'], 4225)\n",
      "(['Parmesan', 'Onions'], 3915)\n"
     ]
    }
   ],
   "source": [
    "sorted_data = sorted(pair_count_1, key=lambda x: x[1], reverse=True)\n",
    "for i in range(5):\n",
    "    new_row = pd.DataFrame({'N-Toppings':[1],'Toppings':[\", \".join(sorted_data[i][0])], 'Num Orders':[sorted_data[i][1]]})\n",
    "    df = pd.concat([df,new_row],ignore_index=True)\n",
    "    print(sorted_data[i])\n",
    "sum_other_1 = 0\n",
    "for i in range(5,len(pair_count_1)):\n",
    "    sum_other_1+=sorted_data[i][1]\n",
    "new_row = pd.DataFrame({'N-Toppings':[1],'Toppings':[\"Other\"], 'Num Orders':[sum_other_1]})\n",
    "df = pd.concat([df,new_row],ignore_index=True)"
   ]
  },
  {
   "cell_type": "code",
   "execution_count": 55,
   "metadata": {},
   "outputs": [],
   "source": [
    "pop_items = ['Parmesan','Breadcrumbs', 'Brisket', 'Grilled Chicken', 'Onions', 'Bacon', 'Brocoli','Corn','Mushrooms','Jalapenos','Bell Peppers','Tomatoes', 'Pulled Pork','Pineapple','Ham']\n",
    "pair_count_2 = []\n",
    "foodItemToSearch = \"Mac and Cheese\"\n",
    "for combo in combinations(pop_items,2):\n",
    "    count = 0\n",
    "    for order in orderList:\n",
    "        count+=order.findCombinationWithFood(list(combo), foodItemToSearch)\n",
    "    pair_count_2.append((list(combo),count))"
   ]
  },
  {
   "cell_type": "code",
   "execution_count": 56,
   "metadata": {},
   "outputs": [
    {
     "name": "stdout",
     "output_type": "stream",
     "text": [
      "(['Parmesan', 'Breadcrumbs'], 8947)\n",
      "(['Parmesan', 'Grilled Chicken'], 4320)\n",
      "(['Parmesan', 'Brisket'], 4253)\n",
      "(['Breadcrumbs', 'Brisket'], 4225)\n",
      "(['Parmesan', 'Onions'], 3915)\n"
     ]
    }
   ],
   "source": [
    "sorted_data = sorted(pair_count_2, key=lambda x: x[1], reverse=True)\n",
    "for i in range(5):\n",
    "    new_row = pd.DataFrame({'N-Toppings':[2],'Toppings':[\", \".join(sorted_data[i][0])], 'Num Orders':[sorted_data[i][1]]})\n",
    "    df = pd.concat([df,new_row],ignore_index=True)\n",
    "    print(sorted_data[i])\n",
    "sum_other_2 = 0\n",
    "for i in range(5,len(pair_count_2)):\n",
    "    sum_other_2+=sorted_data[i][1]\n",
    "new_row = pd.DataFrame({'N-Toppings':[2],'Toppings':[\"Other\"], 'Num Orders':[sum_other_2]})\n",
    "df = pd.concat([df,new_row],ignore_index=True)"
   ]
  },
  {
   "cell_type": "code",
   "execution_count": 57,
   "metadata": {},
   "outputs": [],
   "source": [
    "pop_items = ['Parmesan','Breadcrumbs', 'Brisket', 'Grilled Chicken', 'Onions', 'Bacon', 'Brocoli','Corn','Mushrooms','Jalapenos','Bell Peppers','Tomatoes', 'Pulled Pork','Pineapple','Ham']\n",
    "pair_count_3 = []\n",
    "foodItemToSearch = \"Mac and Cheese\"\n",
    "for combo in combinations(pop_items,3):\n",
    "    count = 0\n",
    "    for order in orderList:\n",
    "        count+=order.findCombinationWithFood(list(combo), foodItemToSearch)\n",
    "    pair_count_3.append((list(combo),count))"
   ]
  },
  {
   "cell_type": "code",
   "execution_count": 58,
   "metadata": {},
   "outputs": [
    {
     "name": "stdout",
     "output_type": "stream",
     "text": [
      "(['Parmesan', 'Breadcrumbs', 'Brisket'], 2945)\n",
      "(['Parmesan', 'Breadcrumbs', 'Onions'], 2732)\n",
      "(['Parmesan', 'Breadcrumbs', 'Grilled Chicken'], 2717)\n",
      "(['Parmesan', 'Breadcrumbs', 'Bacon'], 2213)\n",
      "(['Parmesan', 'Breadcrumbs', 'Corn'], 2099)\n"
     ]
    }
   ],
   "source": [
    "sorted_data = sorted(pair_count_3, key=lambda x: x[1], reverse=True)\n",
    "for i in range(5):\n",
    "    new_row = pd.DataFrame({'N-Toppings':[3],'Toppings':[\", \".join(sorted_data[i][0])], 'Num Orders':[sorted_data[i][1]]})\n",
    "    df = pd.concat([df,new_row],ignore_index=True)\n",
    "    print(sorted_data[i])\n",
    "sum_other_3 = 0\n",
    "for i in range(5,len(pair_count_3)):\n",
    "    sum_other_3+=sorted_data[i][1]\n",
    "new_row = pd.DataFrame({'N-Toppings':[3],'Toppings':[\"Other\"], 'Num Orders':[sum_other_3]})\n",
    "df = pd.concat([df,new_row],ignore_index=True)"
   ]
  },
  {
   "cell_type": "code",
   "execution_count": 59,
   "metadata": {},
   "outputs": [],
   "source": [
    "pop_items = ['Parmesan','Breadcrumbs', 'Brisket', 'Grilled Chicken', 'Onions', 'Bacon', 'Brocoli','Corn','Mushrooms','Jalapenos','Bell Peppers','Tomatoes', 'Pulled Pork','Pineapple','Ham']\n",
    "pair_count_4 = []\n",
    "foodItemToSearch = \"Mac and Cheese\"\n",
    "for combo in combinations(pop_items,4):\n",
    "    count = 0\n",
    "    for order in orderList:\n",
    "        count+=order.findCombinationWithFood(list(combo), foodItemToSearch)\n",
    "    pair_count_4.append((list(combo),count))"
   ]
  },
  {
   "cell_type": "code",
   "execution_count": 60,
   "metadata": {},
   "outputs": [
    {
     "name": "stdout",
     "output_type": "stream",
     "text": [
      "(['Parmesan', 'Breadcrumbs', 'Onions', 'Bell Peppers'], 1120)\n",
      "(['Parmesan', 'Breadcrumbs', 'Onions', 'Jalapenos'], 1078)\n",
      "(['Parmesan', 'Breadcrumbs', 'Onions', 'Corn'], 1050)\n",
      "(['Parmesan', 'Breadcrumbs', 'Onions', 'Mushrooms'], 1029)\n",
      "(['Parmesan', 'Breadcrumbs', 'Brisket', 'Onions'], 940)\n"
     ]
    }
   ],
   "source": [
    "sorted_data = sorted(pair_count_4, key=lambda x: x[1], reverse=True)\n",
    "for i in range(5):\n",
    "    new_row = pd.DataFrame({'N-Toppings':[4],'Toppings':[\", \".join(sorted_data[i][0])], 'Num Orders':[sorted_data[i][1]]})\n",
    "    df = pd.concat([df,new_row],ignore_index=True)\n",
    "    print(sorted_data[i])\n",
    "sum_other_4 = 0\n",
    "for i in range(5,len(pair_count_4)):\n",
    "    sum_other_4+=sorted_data[i][1]\n",
    "new_row = pd.DataFrame({'N-Toppings':[4],'Toppings':[\"Other\"], 'Num Orders':[sum_other_4]})\n",
    "df = pd.concat([df,new_row],ignore_index=True)"
   ]
  },
  {
   "cell_type": "code",
   "execution_count": 61,
   "metadata": {},
   "outputs": [],
   "source": [
    "pop_items = ['Parmesan','Breadcrumbs', 'Brisket', 'Grilled Chicken', 'Onions', 'Bacon', 'Brocoli','Corn','Mushrooms','Jalapenos','Bell Peppers','Tomatoes', 'Pulled Pork','Pineapple','Ham']\n",
    "pair_count_5 = []\n",
    "foodItemToSearch = \"Mac and Cheese\"\n",
    "for combo in combinations(pop_items,5):\n",
    "    count = 0\n",
    "    for order in orderList:\n",
    "        count+=order.findCombinationWithFood(list(combo), foodItemToSearch)\n",
    "    pair_count_5.append((list(combo),count))"
   ]
  },
  {
   "cell_type": "code",
   "execution_count": 62,
   "metadata": {},
   "outputs": [
    {
     "name": "stdout",
     "output_type": "stream",
     "text": [
      "(['Parmesan', 'Breadcrumbs', 'Onions', 'Jalapenos', 'Bell Peppers'], 565)\n",
      "(['Parmesan', 'Breadcrumbs', 'Onions', 'Corn', 'Bell Peppers'], 529)\n",
      "(['Parmesan', 'Breadcrumbs', 'Onions', 'Mushrooms', 'Bell Peppers'], 509)\n",
      "(['Parmesan', 'Breadcrumbs', 'Onions', 'Bell Peppers', 'Tomatoes'], 489)\n",
      "(['Parmesan', 'Breadcrumbs', 'Onions', 'Corn', 'Jalapenos'], 478)\n"
     ]
    }
   ],
   "source": [
    "sorted_data = sorted(pair_count_5, key=lambda x: x[1], reverse=True)\n",
    "for i in range(5):\n",
    "    new_row = pd.DataFrame({'N-Toppings':[5],'Toppings':[\", \".join(sorted_data[i][0])], 'Num Orders':[sorted_data[i][1]]})\n",
    "    df = pd.concat([df,new_row],ignore_index=True)\n",
    "    print(sorted_data[i])\n",
    "sum_other_5 = 0\n",
    "for i in range(5,len(pair_count_5)):\n",
    "    sum_other_5+=sorted_data[i][1]\n",
    "new_row = pd.DataFrame({'N-Toppings':[5],'Toppings':[\"Other\"], 'Num Orders':[sum_other_5]})\n",
    "df = pd.concat([df,new_row],ignore_index=True)"
   ]
  },
  {
   "cell_type": "code",
   "execution_count": 67,
   "metadata": {},
   "outputs": [],
   "source": [
    "df.to_csv(\"C:/Users/fredy/Projects/TAMUDatathon/Pop_Top_Mac.csv\", encoding=\"latin1\", index=False)"
   ]
  },
  {
   "cell_type": "code",
   "execution_count": 68,
   "metadata": {},
   "outputs": [],
   "source": [
    "df2 = pd.DataFrame(np.nan, columns=['N-Toppings','Toppings','Num Orders'], index=range(0,0))\n"
   ]
  },
  {
   "cell_type": "code",
   "execution_count": 69,
   "metadata": {},
   "outputs": [],
   "source": [
    "pop_items = ['Parmesan','Breadcrumbs', 'Brisket', 'Grilled Chicken', 'Onions', 'Bacon', 'Brocoli','Corn','Mushrooms','Jalapenos','Bell Peppers','Tomatoes', 'Pulled Pork','Pineapple','Ham']\n",
    "pair_count_2 = []\n",
    "foodItemToSearch = \"Grilled Cheese Sandwich\"\n",
    "for combo in combinations(pop_items,2):\n",
    "    count = 0\n",
    "    for order in orderList:\n",
    "        count+=order.findCombinationWithFood(list(combo), foodItemToSearch)\n",
    "    pair_count_2.append((list(combo),count))"
   ]
  },
  {
   "cell_type": "code",
   "execution_count": 70,
   "metadata": {},
   "outputs": [
    {
     "name": "stdout",
     "output_type": "stream",
     "text": [
      "(['Parmesan', 'Breadcrumbs'], 8947)\n",
      "(['Parmesan', 'Grilled Chicken'], 4320)\n",
      "(['Parmesan', 'Brisket'], 4253)\n",
      "(['Breadcrumbs', 'Brisket'], 4225)\n",
      "(['Parmesan', 'Onions'], 3915)\n"
     ]
    }
   ],
   "source": [
    "sorted_data = sorted(pair_count_1, key=lambda x: x[1], reverse=True)\n",
    "for i in range(5):\n",
    "    new_row = pd.DataFrame({'N-Toppings':[1],'Toppings':[\", \".join(sorted_data[i][0])], 'Num Orders':[sorted_data[i][1]]})\n",
    "    df2 = pd.concat([df,new_row],ignore_index=True)\n",
    "    print(sorted_data[i])\n",
    "sum_other_1 = 0\n",
    "for i in range(5,len(pair_count_1)):\n",
    "    sum_other_1+=sorted_data[i][1]\n",
    "new_row = pd.DataFrame({'N-Toppings':[1],'Toppings':[\"Other\"], 'Num Orders':[sum_other_1]})\n",
    "df2 = pd.concat([df,new_row],ignore_index=True)"
   ]
  },
  {
   "cell_type": "code",
   "execution_count": 71,
   "metadata": {},
   "outputs": [],
   "source": [
    "pop_items = ['Parmesan','Breadcrumbs', 'Brisket', 'Grilled Chicken', 'Onions', 'Bacon', 'Brocoli','Corn','Mushrooms','Jalapenos','Bell Peppers','Tomatoes', 'Pulled Pork','Pineapple','Ham']\n",
    "pair_count_2 = []\n",
    "foodItemToSearch = \"Grilled Cheese Sandwich\"\n",
    "for combo in combinations(pop_items,2):\n",
    "    count = 0\n",
    "    for order in orderList:\n",
    "        count+=order.findCombinationWithFood(list(combo), foodItemToSearch)\n",
    "    pair_count_2.append((list(combo),count))"
   ]
  },
  {
   "cell_type": "code",
   "execution_count": 72,
   "metadata": {},
   "outputs": [
    {
     "name": "stdout",
     "output_type": "stream",
     "text": [
      "(['Parmesan', 'Breadcrumbs'], 336)\n",
      "(['Parmesan', 'Onions'], 195)\n",
      "(['Parmesan', 'Brisket'], 189)\n",
      "(['Onions', 'Bell Peppers'], 177)\n",
      "(['Onions', 'Jalapenos'], 171)\n"
     ]
    }
   ],
   "source": [
    "sorted_data = sorted(pair_count_2, key=lambda x: x[1], reverse=True)\n",
    "for i in range(5):\n",
    "    new_row = pd.DataFrame({'N-Toppings':[2],'Toppings':[\", \".join(sorted_data[i][0])], 'Num Orders':[sorted_data[i][1]]})\n",
    "    df2 = pd.concat([df,new_row],ignore_index=True)\n",
    "    print(sorted_data[i])\n",
    "sum_other_2 = 0\n",
    "for i in range(5,len(pair_count_2)):\n",
    "    sum_other_2+=sorted_data[i][1]\n",
    "new_row = pd.DataFrame({'N-Toppings':[2],'Toppings':[\"Other\"], 'Num Orders':[sum_other_2]})\n",
    "df2 = pd.concat([df,new_row],ignore_index=True)"
   ]
  },
  {
   "cell_type": "code",
   "execution_count": 73,
   "metadata": {},
   "outputs": [],
   "source": [
    "pop_items = ['Parmesan','Breadcrumbs', 'Brisket', 'Grilled Chicken', 'Onions', 'Bacon', 'Brocoli','Corn','Mushrooms','Jalapenos','Bell Peppers','Tomatoes', 'Pulled Pork','Pineapple','Ham']\n",
    "pair_count_3 = []\n",
    "foodItemToSearch = \"Grilled Cheese Sandwich\"\n",
    "for combo in combinations(pop_items,3):\n",
    "    count = 0\n",
    "    for order in orderList:\n",
    "        count+=order.findCombinationWithFood(list(combo), foodItemToSearch)\n",
    "    pair_count_3.append((list(combo),count))"
   ]
  },
  {
   "cell_type": "code",
   "execution_count": 74,
   "metadata": {},
   "outputs": [
    {
     "name": "stdout",
     "output_type": "stream",
     "text": [
      "(['Parmesan', 'Breadcrumbs', 'Onions'], 107)\n",
      "(['Parmesan', 'Breadcrumbs', 'Mushrooms'], 84)\n",
      "(['Parmesan', 'Breadcrumbs', 'Grilled Chicken'], 82)\n",
      "(['Parmesan', 'Breadcrumbs', 'Brisket'], 81)\n",
      "(['Parmesan', 'Onions', 'Tomatoes'], 73)\n"
     ]
    }
   ],
   "source": [
    "sorted_data = sorted(pair_count_3, key=lambda x: x[1], reverse=True)\n",
    "for i in range(5):\n",
    "    new_row = pd.DataFrame({'N-Toppings':[3],'Toppings':[\", \".join(sorted_data[i][0])], 'Num Orders':[sorted_data[i][1]]})\n",
    "    df2 = pd.concat([df,new_row],ignore_index=True)\n",
    "    print(sorted_data[i])\n",
    "sum_other_3 = 0\n",
    "for i in range(5,len(pair_count_3)):\n",
    "    sum_other_3+=sorted_data[i][1]\n",
    "new_row = pd.DataFrame({'N-Toppings':[3],'Toppings':[\"Other\"], 'Num Orders':[sum_other_3]})\n",
    "df2 = pd.concat([df,new_row],ignore_index=True)"
   ]
  },
  {
   "cell_type": "code",
   "execution_count": 75,
   "metadata": {},
   "outputs": [],
   "source": [
    "pop_items = ['Parmesan','Breadcrumbs', 'Brisket', 'Grilled Chicken', 'Onions', 'Bacon', 'Brocoli','Corn','Mushrooms','Jalapenos','Bell Peppers','Tomatoes', 'Pulled Pork','Pineapple','Ham']\n",
    "pair_count_4 = []\n",
    "foodItemToSearch = \"Grilled Cheese Sandwich\"\n",
    "for combo in combinations(pop_items,4):\n",
    "    count = 0\n",
    "    for order in orderList:\n",
    "        count+=order.findCombinationWithFood(list(combo), foodItemToSearch)\n",
    "    pair_count_4.append((list(combo),count))"
   ]
  },
  {
   "cell_type": "code",
   "execution_count": 76,
   "metadata": {},
   "outputs": [
    {
     "name": "stdout",
     "output_type": "stream",
     "text": [
      "(['Parmesan', 'Breadcrumbs', 'Onions', 'Mushrooms'], 47)\n",
      "(['Parmesan', 'Breadcrumbs', 'Onions', 'Tomatoes'], 45)\n",
      "(['Parmesan', 'Breadcrumbs', 'Onions', 'Bell Peppers'], 40)\n",
      "(['Parmesan', 'Breadcrumbs', 'Bell Peppers', 'Tomatoes'], 39)\n",
      "(['Parmesan', 'Breadcrumbs', 'Onions', 'Jalapenos'], 36)\n"
     ]
    }
   ],
   "source": [
    "sorted_data = sorted(pair_count_4, key=lambda x: x[1], reverse=True)\n",
    "for i in range(5):\n",
    "    new_row = pd.DataFrame({'N-Toppings':[4],'Toppings':[\", \".join(sorted_data[i][0])], 'Num Orders':[sorted_data[i][1]]})\n",
    "    df2 = pd.concat([df,new_row],ignore_index=True)\n",
    "    print(sorted_data[i])\n",
    "sum_other_4 = 0\n",
    "for i in range(5,len(pair_count_4)):\n",
    "    sum_other_4+=sorted_data[i][1]\n",
    "new_row = pd.DataFrame({'N-Toppings':[4],'Toppings':[\"Other\"], 'Num Orders':[sum_other_4]})\n",
    "df2 = pd.concat([df,new_row],ignore_index=True)"
   ]
  },
  {
   "cell_type": "code",
   "execution_count": 77,
   "metadata": {},
   "outputs": [],
   "source": [
    "pop_items = ['Parmesan','Breadcrumbs', 'Brisket', 'Grilled Chicken', 'Onions', 'Bacon', 'Brocoli','Corn','Mushrooms','Jalapenos','Bell Peppers','Tomatoes', 'Pulled Pork','Pineapple','Ham']\n",
    "pair_count_5 = []\n",
    "foodItemToSearch = \"Grilled Cheese Sandwich\"\n",
    "for combo in combinations(pop_items,5):\n",
    "    count = 0\n",
    "    for order in orderList:\n",
    "        count+=order.findCombinationWithFood(list(combo), foodItemToSearch)\n",
    "    pair_count_5.append((list(combo),count))"
   ]
  },
  {
   "cell_type": "code",
   "execution_count": 78,
   "metadata": {},
   "outputs": [
    {
     "name": "stdout",
     "output_type": "stream",
     "text": [
      "(['Parmesan', 'Breadcrumbs', 'Onions', 'Bell Peppers', 'Tomatoes'], 24)\n",
      "(['Parmesan', 'Breadcrumbs', 'Jalapenos', 'Bell Peppers', 'Tomatoes'], 24)\n",
      "(['Parmesan', 'Breadcrumbs', 'Onions', 'Mushrooms', 'Tomatoes'], 22)\n",
      "(['Parmesan', 'Onions', 'Jalapenos', 'Bell Peppers', 'Tomatoes'], 20)\n",
      "(['Parmesan', 'Breadcrumbs', 'Onions', 'Corn', 'Tomatoes'], 19)\n"
     ]
    }
   ],
   "source": [
    "sorted_data = sorted(pair_count_5, key=lambda x: x[1], reverse=True)\n",
    "for i in range(5):\n",
    "    new_row = pd.DataFrame({'N-Toppings':[5],'Toppings':[\", \".join(sorted_data[i][0])], 'Num Orders':[sorted_data[i][1]]})\n",
    "    df2 = pd.concat([df,new_row],ignore_index=True)\n",
    "    print(sorted_data[i])\n",
    "sum_other_5 = 0\n",
    "for i in range(5,len(pair_count_5)):\n",
    "    sum_other_5+=sorted_data[i][1]\n",
    "new_row = pd.DataFrame({'N-Toppings':[5],'Toppings':[\"Other\"], 'Num Orders':[sum_other_5]})\n",
    "df2 = pd.concat([df,new_row],ignore_index=True)"
   ]
  },
  {
   "cell_type": "code",
   "execution_count": 80,
   "metadata": {},
   "outputs": [],
   "source": [
    "df.to_csv(\"C:/Users/fredy/Projects/TAMUDatathon/Pop_Top_Sandwich.csv\",index=False)"
   ]
  }
 ],
 "metadata": {
  "kernelspec": {
   "display_name": "Python 3",
   "language": "python",
   "name": "python3"
  },
  "language_info": {
   "codemirror_mode": {
    "name": "ipython",
    "version": 3
   },
   "file_extension": ".py",
   "mimetype": "text/x-python",
   "name": "python",
   "nbconvert_exporter": "python",
   "pygments_lexer": "ipython3",
   "version": "3.11.9"
  }
 },
 "nbformat": 4,
 "nbformat_minor": 2
}
